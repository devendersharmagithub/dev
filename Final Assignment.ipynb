#Diplay the output
print(python file)
